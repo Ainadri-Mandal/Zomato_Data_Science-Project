{
 "cells": [
  {
   "cell_type": "markdown",
   "id": "02f7a3fd-282b-4223-ab5f-1d38d210a151",
   "metadata": {},
   "source": [
    "# Zomato Data Science Project"
   ]
  },
  {
   "cell_type": "code",
   "execution_count": 1,
   "id": "95cc9292-2f1f-42e3-8d46-d10cebf790a8",
   "metadata": {},
   "outputs": [],
   "source": [
    "import numpy as np\n",
    "import pandas as pd\n",
    "import matplotlib.pyplot as plt\n",
    "import seaborn as sns"
   ]
  },
  {
   "cell_type": "code",
   "execution_count": 3,
   "id": "b3d3dd06-b571-481c-b620-079bed0b3347",
   "metadata": {},
   "outputs": [
    {
     "name": "stdout",
     "output_type": "stream",
     "text": [
      "                      name online_order book_table   rate  votes  \\\n",
      "0                    Jalsa          Yes        Yes  4.1/5    775   \n",
      "1           Spice Elephant          Yes         No  4.1/5    787   \n",
      "2          San Churro Cafe          Yes         No  3.8/5    918   \n",
      "3    Addhuri Udupi Bhojana           No         No  3.7/5     88   \n",
      "4            Grand Village           No         No  3.8/5    166   \n",
      "..                     ...          ...        ...    ...    ...   \n",
      "143       Melting Melodies           No         No  3.3/5      0   \n",
      "144        New Indraprasta           No         No  3.3/5      0   \n",
      "145           Anna Kuteera          Yes         No  4.0/5    771   \n",
      "146                 Darbar           No         No  3.0/5     98   \n",
      "147          Vijayalakshmi          Yes         No  3.9/5     47   \n",
      "\n",
      "     approx_cost(for two people) listed_in(type)  \n",
      "0                            800          Buffet  \n",
      "1                            800          Buffet  \n",
      "2                            800          Buffet  \n",
      "3                            300          Buffet  \n",
      "4                            600          Buffet  \n",
      "..                           ...             ...  \n",
      "143                          100          Dining  \n",
      "144                          150          Dining  \n",
      "145                          450          Dining  \n",
      "146                          800          Dining  \n",
      "147                          200          Dining  \n",
      "\n",
      "[148 rows x 7 columns]\n"
     ]
    }
   ],
   "source": [
    "dataframe = pd.read_csv(\"Zomato data.csv\")\n",
    "print(dataframe)"
   ]
  },
  {
   "cell_type": "code",
   "execution_count": 4,
   "id": "789737f9-8d37-47f7-9b81-8759268f134a",
   "metadata": {},
   "outputs": [
    {
     "data": {
      "text/html": [
       "<div>\n",
       "<style scoped>\n",
       "    .dataframe tbody tr th:only-of-type {\n",
       "        vertical-align: middle;\n",
       "    }\n",
       "\n",
       "    .dataframe tbody tr th {\n",
       "        vertical-align: top;\n",
       "    }\n",
       "\n",
       "    .dataframe thead th {\n",
       "        text-align: right;\n",
       "    }\n",
       "</style>\n",
       "<table border=\"1\" class=\"dataframe\">\n",
       "  <thead>\n",
       "    <tr style=\"text-align: right;\">\n",
       "      <th></th>\n",
       "      <th>name</th>\n",
       "      <th>online_order</th>\n",
       "      <th>book_table</th>\n",
       "      <th>rate</th>\n",
       "      <th>votes</th>\n",
       "      <th>approx_cost(for two people)</th>\n",
       "      <th>listed_in(type)</th>\n",
       "    </tr>\n",
       "  </thead>\n",
       "  <tbody>\n",
       "    <tr>\n",
       "      <th>0</th>\n",
       "      <td>Jalsa</td>\n",
       "      <td>Yes</td>\n",
       "      <td>Yes</td>\n",
       "      <td>4.1/5</td>\n",
       "      <td>775</td>\n",
       "      <td>800</td>\n",
       "      <td>Buffet</td>\n",
       "    </tr>\n",
       "    <tr>\n",
       "      <th>1</th>\n",
       "      <td>Spice Elephant</td>\n",
       "      <td>Yes</td>\n",
       "      <td>No</td>\n",
       "      <td>4.1/5</td>\n",
       "      <td>787</td>\n",
       "      <td>800</td>\n",
       "      <td>Buffet</td>\n",
       "    </tr>\n",
       "    <tr>\n",
       "      <th>2</th>\n",
       "      <td>San Churro Cafe</td>\n",
       "      <td>Yes</td>\n",
       "      <td>No</td>\n",
       "      <td>3.8/5</td>\n",
       "      <td>918</td>\n",
       "      <td>800</td>\n",
       "      <td>Buffet</td>\n",
       "    </tr>\n",
       "    <tr>\n",
       "      <th>3</th>\n",
       "      <td>Addhuri Udupi Bhojana</td>\n",
       "      <td>No</td>\n",
       "      <td>No</td>\n",
       "      <td>3.7/5</td>\n",
       "      <td>88</td>\n",
       "      <td>300</td>\n",
       "      <td>Buffet</td>\n",
       "    </tr>\n",
       "    <tr>\n",
       "      <th>4</th>\n",
       "      <td>Grand Village</td>\n",
       "      <td>No</td>\n",
       "      <td>No</td>\n",
       "      <td>3.8/5</td>\n",
       "      <td>166</td>\n",
       "      <td>600</td>\n",
       "      <td>Buffet</td>\n",
       "    </tr>\n",
       "    <tr>\n",
       "      <th>...</th>\n",
       "      <td>...</td>\n",
       "      <td>...</td>\n",
       "      <td>...</td>\n",
       "      <td>...</td>\n",
       "      <td>...</td>\n",
       "      <td>...</td>\n",
       "      <td>...</td>\n",
       "    </tr>\n",
       "    <tr>\n",
       "      <th>143</th>\n",
       "      <td>Melting Melodies</td>\n",
       "      <td>No</td>\n",
       "      <td>No</td>\n",
       "      <td>3.3/5</td>\n",
       "      <td>0</td>\n",
       "      <td>100</td>\n",
       "      <td>Dining</td>\n",
       "    </tr>\n",
       "    <tr>\n",
       "      <th>144</th>\n",
       "      <td>New Indraprasta</td>\n",
       "      <td>No</td>\n",
       "      <td>No</td>\n",
       "      <td>3.3/5</td>\n",
       "      <td>0</td>\n",
       "      <td>150</td>\n",
       "      <td>Dining</td>\n",
       "    </tr>\n",
       "    <tr>\n",
       "      <th>145</th>\n",
       "      <td>Anna Kuteera</td>\n",
       "      <td>Yes</td>\n",
       "      <td>No</td>\n",
       "      <td>4.0/5</td>\n",
       "      <td>771</td>\n",
       "      <td>450</td>\n",
       "      <td>Dining</td>\n",
       "    </tr>\n",
       "    <tr>\n",
       "      <th>146</th>\n",
       "      <td>Darbar</td>\n",
       "      <td>No</td>\n",
       "      <td>No</td>\n",
       "      <td>3.0/5</td>\n",
       "      <td>98</td>\n",
       "      <td>800</td>\n",
       "      <td>Dining</td>\n",
       "    </tr>\n",
       "    <tr>\n",
       "      <th>147</th>\n",
       "      <td>Vijayalakshmi</td>\n",
       "      <td>Yes</td>\n",
       "      <td>No</td>\n",
       "      <td>3.9/5</td>\n",
       "      <td>47</td>\n",
       "      <td>200</td>\n",
       "      <td>Dining</td>\n",
       "    </tr>\n",
       "  </tbody>\n",
       "</table>\n",
       "<p>148 rows × 7 columns</p>\n",
       "</div>"
      ],
      "text/plain": [
       "                      name online_order book_table   rate  votes  \\\n",
       "0                    Jalsa          Yes        Yes  4.1/5    775   \n",
       "1           Spice Elephant          Yes         No  4.1/5    787   \n",
       "2          San Churro Cafe          Yes         No  3.8/5    918   \n",
       "3    Addhuri Udupi Bhojana           No         No  3.7/5     88   \n",
       "4            Grand Village           No         No  3.8/5    166   \n",
       "..                     ...          ...        ...    ...    ...   \n",
       "143       Melting Melodies           No         No  3.3/5      0   \n",
       "144        New Indraprasta           No         No  3.3/5      0   \n",
       "145           Anna Kuteera          Yes         No  4.0/5    771   \n",
       "146                 Darbar           No         No  3.0/5     98   \n",
       "147          Vijayalakshmi          Yes         No  3.9/5     47   \n",
       "\n",
       "     approx_cost(for two people) listed_in(type)  \n",
       "0                            800          Buffet  \n",
       "1                            800          Buffet  \n",
       "2                            800          Buffet  \n",
       "3                            300          Buffet  \n",
       "4                            600          Buffet  \n",
       "..                           ...             ...  \n",
       "143                          100          Dining  \n",
       "144                          150          Dining  \n",
       "145                          450          Dining  \n",
       "146                          800          Dining  \n",
       "147                          200          Dining  \n",
       "\n",
       "[148 rows x 7 columns]"
      ]
     },
     "execution_count": 4,
     "metadata": {},
     "output_type": "execute_result"
    }
   ],
   "source": [
    "dataframe"
   ]
  },
  {
   "cell_type": "markdown",
   "id": "406da7e5-921a-49d6-afd8-164b830d5e1a",
   "metadata": {},
   "source": [
    "## Convert the data type to column-rate"
   ]
  },
  {
   "cell_type": "code",
   "execution_count": 5,
   "id": "81b2e066-ba16-4d05-93a5-1431c8b38864",
   "metadata": {},
   "outputs": [
    {
     "name": "stdout",
     "output_type": "stream",
     "text": [
      "                    name online_order book_table  rate  votes  \\\n",
      "0                  Jalsa          Yes        Yes   4.1    775   \n",
      "1         Spice Elephant          Yes         No   4.1    787   \n",
      "2        San Churro Cafe          Yes         No   3.8    918   \n",
      "3  Addhuri Udupi Bhojana           No         No   3.7     88   \n",
      "4          Grand Village           No         No   3.8    166   \n",
      "\n",
      "   approx_cost(for two people) listed_in(type)  \n",
      "0                          800          Buffet  \n",
      "1                          800          Buffet  \n",
      "2                          800          Buffet  \n",
      "3                          300          Buffet  \n",
      "4                          600          Buffet  \n"
     ]
    }
   ],
   "source": [
    "def handleRate(value):\n",
    "    value = str(value).split('/')\n",
    "    value = value[0]\n",
    "    return float(value)\n",
    "dataframe['rate'] = dataframe['rate'].apply(handleRate)\n",
    "print(dataframe.head())"
   ]
  },
  {
   "cell_type": "code",
   "execution_count": 6,
   "id": "a9ec9e0a-e3bd-426b-914d-97965aad88a5",
   "metadata": {},
   "outputs": [
    {
     "name": "stdout",
     "output_type": "stream",
     "text": [
      "<class 'pandas.core.frame.DataFrame'>\n",
      "RangeIndex: 148 entries, 0 to 147\n",
      "Data columns (total 7 columns):\n",
      " #   Column                       Non-Null Count  Dtype  \n",
      "---  ------                       --------------  -----  \n",
      " 0   name                         148 non-null    object \n",
      " 1   online_order                 148 non-null    object \n",
      " 2   book_table                   148 non-null    object \n",
      " 3   rate                         148 non-null    float64\n",
      " 4   votes                        148 non-null    int64  \n",
      " 5   approx_cost(for two people)  148 non-null    int64  \n",
      " 6   listed_in(type)              148 non-null    object \n",
      "dtypes: float64(1), int64(2), object(4)\n",
      "memory usage: 8.2+ KB\n"
     ]
    }
   ],
   "source": [
    "dataframe.info()"
   ]
  },
  {
   "cell_type": "markdown",
   "id": "968e7dfb-2710-438b-843f-2d0da6488379",
   "metadata": {},
   "source": [
    "## Type of Restaurant"
   ]
  },
  {
   "cell_type": "code",
   "execution_count": 7,
   "id": "1d639e43-ee20-4a09-95e5-c2e8e335dab8",
   "metadata": {},
   "outputs": [
    {
     "data": {
      "text/html": [
       "<div>\n",
       "<style scoped>\n",
       "    .dataframe tbody tr th:only-of-type {\n",
       "        vertical-align: middle;\n",
       "    }\n",
       "\n",
       "    .dataframe tbody tr th {\n",
       "        vertical-align: top;\n",
       "    }\n",
       "\n",
       "    .dataframe thead th {\n",
       "        text-align: right;\n",
       "    }\n",
       "</style>\n",
       "<table border=\"1\" class=\"dataframe\">\n",
       "  <thead>\n",
       "    <tr style=\"text-align: right;\">\n",
       "      <th></th>\n",
       "      <th>name</th>\n",
       "      <th>online_order</th>\n",
       "      <th>book_table</th>\n",
       "      <th>rate</th>\n",
       "      <th>votes</th>\n",
       "      <th>approx_cost(for two people)</th>\n",
       "      <th>listed_in(type)</th>\n",
       "    </tr>\n",
       "  </thead>\n",
       "  <tbody>\n",
       "    <tr>\n",
       "      <th>0</th>\n",
       "      <td>Jalsa</td>\n",
       "      <td>Yes</td>\n",
       "      <td>Yes</td>\n",
       "      <td>4.1</td>\n",
       "      <td>775</td>\n",
       "      <td>800</td>\n",
       "      <td>Buffet</td>\n",
       "    </tr>\n",
       "    <tr>\n",
       "      <th>1</th>\n",
       "      <td>Spice Elephant</td>\n",
       "      <td>Yes</td>\n",
       "      <td>No</td>\n",
       "      <td>4.1</td>\n",
       "      <td>787</td>\n",
       "      <td>800</td>\n",
       "      <td>Buffet</td>\n",
       "    </tr>\n",
       "    <tr>\n",
       "      <th>2</th>\n",
       "      <td>San Churro Cafe</td>\n",
       "      <td>Yes</td>\n",
       "      <td>No</td>\n",
       "      <td>3.8</td>\n",
       "      <td>918</td>\n",
       "      <td>800</td>\n",
       "      <td>Buffet</td>\n",
       "    </tr>\n",
       "    <tr>\n",
       "      <th>3</th>\n",
       "      <td>Addhuri Udupi Bhojana</td>\n",
       "      <td>No</td>\n",
       "      <td>No</td>\n",
       "      <td>3.7</td>\n",
       "      <td>88</td>\n",
       "      <td>300</td>\n",
       "      <td>Buffet</td>\n",
       "    </tr>\n",
       "    <tr>\n",
       "      <th>4</th>\n",
       "      <td>Grand Village</td>\n",
       "      <td>No</td>\n",
       "      <td>No</td>\n",
       "      <td>3.8</td>\n",
       "      <td>166</td>\n",
       "      <td>600</td>\n",
       "      <td>Buffet</td>\n",
       "    </tr>\n",
       "  </tbody>\n",
       "</table>\n",
       "</div>"
      ],
      "text/plain": [
       "                    name online_order book_table  rate  votes  \\\n",
       "0                  Jalsa          Yes        Yes   4.1    775   \n",
       "1         Spice Elephant          Yes         No   4.1    787   \n",
       "2        San Churro Cafe          Yes         No   3.8    918   \n",
       "3  Addhuri Udupi Bhojana           No         No   3.7     88   \n",
       "4          Grand Village           No         No   3.8    166   \n",
       "\n",
       "   approx_cost(for two people) listed_in(type)  \n",
       "0                          800          Buffet  \n",
       "1                          800          Buffet  \n",
       "2                          800          Buffet  \n",
       "3                          300          Buffet  \n",
       "4                          600          Buffet  "
      ]
     },
     "execution_count": 7,
     "metadata": {},
     "output_type": "execute_result"
    }
   ],
   "source": [
    "dataframe.head()"
   ]
  },
  {
   "cell_type": "code",
   "execution_count": 8,
   "id": "073c98a9-1b2e-489d-86e4-6f3a4335f3dc",
   "metadata": {},
   "outputs": [
    {
     "data": {
      "text/plain": [
       "Text(0.5, 0, 'type of restaurant')"
      ]
     },
     "execution_count": 8,
     "metadata": {},
     "output_type": "execute_result"
    },
    {
     "data": {
      "image/png": "[encoded data removed]",
      "text/plain": [
       "<Figure size 640x480 with 1 Axes>"
      ]
     },
     "metadata": {},
     "output_type": "display_data"
    }
   ],
   "source": [
    "sns.countplot(x=dataframe['listed_in(type)'])\n",
    "plt.xlabel(\"type of restaurant\")"
   ]
  },
  {
   "cell_type": "markdown",
   "id": "e317c591-6efd-45b0-b178-a97f49dd10bf",
   "metadata": {},
   "source": [
    "## Conclusion - majority of the restaurant falls in dining category"
   ]
  },
  {
   "cell_type": "code",
   "execution_count": 9,
   "id": "71f743b3-8d22-4041-a4a9-74b01cf8319f",
   "metadata": {},
   "outputs": [
    {
     "data": {
      "text/html": [
       "<div>\n",
       "<style scoped>\n",
       "    .dataframe tbody tr th:only-of-type {\n",
       "        vertical-align: middle;\n",
       "    }\n",
       "\n",
       "    .dataframe tbody tr th {\n",
       "        vertical-align: top;\n",
       "    }\n",
       "\n",
       "    .dataframe thead th {\n",
       "        text-align: right;\n",
       "    }\n",
       "</style>\n",
       "<table border=\"1\" class=\"dataframe\">\n",
       "  <thead>\n",
       "    <tr style=\"text-align: right;\">\n",
       "      <th></th>\n",
       "      <th>name</th>\n",
       "      <th>online_order</th>\n",
       "      <th>book_table</th>\n",
       "      <th>rate</th>\n",
       "      <th>votes</th>\n",
       "      <th>approx_cost(for two people)</th>\n",
       "      <th>listed_in(type)</th>\n",
       "    </tr>\n",
       "  </thead>\n",
       "  <tbody>\n",
       "    <tr>\n",
       "      <th>0</th>\n",
       "      <td>Jalsa</td>\n",
       "      <td>Yes</td>\n",
       "      <td>Yes</td>\n",
       "      <td>4.1</td>\n",
       "      <td>775</td>\n",
       "      <td>800</td>\n",
       "      <td>Buffet</td>\n",
       "    </tr>\n",
       "    <tr>\n",
       "      <th>1</th>\n",
       "      <td>Spice Elephant</td>\n",
       "      <td>Yes</td>\n",
       "      <td>No</td>\n",
       "      <td>4.1</td>\n",
       "      <td>787</td>\n",
       "      <td>800</td>\n",
       "      <td>Buffet</td>\n",
       "    </tr>\n",
       "    <tr>\n",
       "      <th>2</th>\n",
       "      <td>San Churro Cafe</td>\n",
       "      <td>Yes</td>\n",
       "      <td>No</td>\n",
       "      <td>3.8</td>\n",
       "      <td>918</td>\n",
       "      <td>800</td>\n",
       "      <td>Buffet</td>\n",
       "    </tr>\n",
       "    <tr>\n",
       "      <th>3</th>\n",
       "      <td>Addhuri Udupi Bhojana</td>\n",
       "      <td>No</td>\n",
       "      <td>No</td>\n",
       "      <td>3.7</td>\n",
       "      <td>88</td>\n",
       "      <td>300</td>\n",
       "      <td>Buffet</td>\n",
       "    </tr>\n",
       "    <tr>\n",
       "      <th>4</th>\n",
       "      <td>Grand Village</td>\n",
       "      <td>No</td>\n",
       "      <td>No</td>\n",
       "      <td>3.8</td>\n",
       "      <td>166</td>\n",
       "      <td>600</td>\n",
       "      <td>Buffet</td>\n",
       "    </tr>\n",
       "  </tbody>\n",
       "</table>\n",
       "</div>"
      ],
      "text/plain": [
       "                    name online_order book_table  rate  votes  \\\n",
       "0                  Jalsa          Yes        Yes   4.1    775   \n",
       "1         Spice Elephant          Yes         No   4.1    787   \n",
       "2        San Churro Cafe          Yes         No   3.8    918   \n",
       "3  Addhuri Udupi Bhojana           No         No   3.7     88   \n",
       "4          Grand Village           No         No   3.8    166   \n",
       "\n",
       "   approx_cost(for two people) listed_in(type)  \n",
       "0                          800          Buffet  \n",
       "1                          800          Buffet  \n",
       "2                          800          Buffet  \n",
       "3                          300          Buffet  \n",
       "4                          600          Buffet  "
      ]
     },
     "execution_count": 9,
     "metadata": {},
     "output_type": "execute_result"
    }
   ],
   "source": [
    "dataframe.head()"
   ]
  },
  {
   "cell_type": "code",
   "execution_count": 10,
   "id": "7e2e0f41-e06f-48ea-8cfa-4a5790041377",
   "metadata": {},
   "outputs": [
    {
     "data": {
      "text/plain": [
       "Text(0, 0.5, 'Votes')"
      ]
     },
     "execution_count": 10,
     "metadata": {},
     "output_type": "execute_result"
    },
    {
     "data": {
      "image/png": "[encoded data removed]",
      "text/plain": [
       "<Figure size 640x480 with 1 Axes>"
      ]
     },
     "metadata": {},
     "output_type": "display_data"
    }
   ],
   "source": [
    "grouped_data = dataframe.groupby('listed_in(type)')['votes'].sum()\n",
    "result = pd.DataFrame({'votes': grouped_data})\n",
    "plt.plot(result, c= \"green\", marker = \"o\")\n",
    "plt.xlabel(\"Type of restaurant\", c=\"red\", size = 20)\n",
    "plt.ylabel(\"Votes\", c=\"red\", size = 20)"
   ]
  },
  {
   "cell_type": "markdown",
   "id": "cd92c238-461f-439e-8eea-ca53b0fd392f",
   "metadata": {},
   "source": [
    "## Conclusion: Dining restaurants have received maximum votes"
   ]
  },
  {
   "cell_type": "code",
   "execution_count": 12,
   "id": "3ba25931-7774-4575-b529-213968e1466a",
   "metadata": {},
   "outputs": [
    {
     "data": {
      "text/html": [
       "<div>\n",
       "<style scoped>\n",
       "    .dataframe tbody tr th:only-of-type {\n",
       "        vertical-align: middle;\n",
       "    }\n",
       "\n",
       "    .dataframe tbody tr th {\n",
       "        vertical-align: top;\n",
       "    }\n",
       "\n",
       "    .dataframe thead th {\n",
       "        text-align: right;\n",
       "    }\n",
       "</style>\n",
       "<table border=\"1\" class=\"dataframe\">\n",
       "  <thead>\n",
       "    <tr style=\"text-align: right;\">\n",
       "      <th></th>\n",
       "      <th>name</th>\n",
       "      <th>online_order</th>\n",
       "      <th>book_table</th>\n",
       "      <th>rate</th>\n",
       "      <th>votes</th>\n",
       "      <th>approx_cost(for two people)</th>\n",
       "      <th>listed_in(type)</th>\n",
       "    </tr>\n",
       "  </thead>\n",
       "  <tbody>\n",
       "    <tr>\n",
       "      <th>0</th>\n",
       "      <td>Jalsa</td>\n",
       "      <td>Yes</td>\n",
       "      <td>Yes</td>\n",
       "      <td>4.1</td>\n",
       "      <td>775</td>\n",
       "      <td>800</td>\n",
       "      <td>Buffet</td>\n",
       "    </tr>\n",
       "    <tr>\n",
       "      <th>1</th>\n",
       "      <td>Spice Elephant</td>\n",
       "      <td>Yes</td>\n",
       "      <td>No</td>\n",
       "      <td>4.1</td>\n",
       "      <td>787</td>\n",
       "      <td>800</td>\n",
       "      <td>Buffet</td>\n",
       "    </tr>\n",
       "    <tr>\n",
       "      <th>2</th>\n",
       "      <td>San Churro Cafe</td>\n",
       "      <td>Yes</td>\n",
       "      <td>No</td>\n",
       "      <td>3.8</td>\n",
       "      <td>918</td>\n",
       "      <td>800</td>\n",
       "      <td>Buffet</td>\n",
       "    </tr>\n",
       "    <tr>\n",
       "      <th>3</th>\n",
       "      <td>Addhuri Udupi Bhojana</td>\n",
       "      <td>No</td>\n",
       "      <td>No</td>\n",
       "      <td>3.7</td>\n",
       "      <td>88</td>\n",
       "      <td>300</td>\n",
       "      <td>Buffet</td>\n",
       "    </tr>\n",
       "    <tr>\n",
       "      <th>4</th>\n",
       "      <td>Grand Village</td>\n",
       "      <td>No</td>\n",
       "      <td>No</td>\n",
       "      <td>3.8</td>\n",
       "      <td>166</td>\n",
       "      <td>600</td>\n",
       "      <td>Buffet</td>\n",
       "    </tr>\n",
       "  </tbody>\n",
       "</table>\n",
       "</div>"
      ],
      "text/plain": [
       "                    name online_order book_table  rate  votes  \\\n",
       "0                  Jalsa          Yes        Yes   4.1    775   \n",
       "1         Spice Elephant          Yes         No   4.1    787   \n",
       "2        San Churro Cafe          Yes         No   3.8    918   \n",
       "3  Addhuri Udupi Bhojana           No         No   3.7     88   \n",
       "4          Grand Village           No         No   3.8    166   \n",
       "\n",
       "   approx_cost(for two people) listed_in(type)  \n",
       "0                          800          Buffet  \n",
       "1                          800          Buffet  \n",
       "2                          800          Buffet  \n",
       "3                          300          Buffet  \n",
       "4                          600          Buffet  "
      ]
     },
     "execution_count": 12,
     "metadata": {},
     "output_type": "execute_result"
    }
   ],
   "source": [
    "dataframe.head()\n"
   ]
  },
  {
   "cell_type": "code",
   "execution_count": 14,
   "id": "5b877321-7454-450c-82b2-7dd200870735",
   "metadata": {},
   "outputs": [
    {
     "data": {
      "image/png": "[encoded data removed]",
      "text/plain": [
       "<Figure size 640x480 with 1 Axes>"
      ]
     },
     "metadata": {},
     "output_type": "display_data"
    }
   ],
   "source": [
    "plt.hist(dataframe['rate'],bins = 5)\n",
    "plt.title(\"ratings distribution\")\n",
    "plt.show()"
   ]
  },
  {
   "cell_type": "markdown",
   "id": "b6090ac0-a0e7-4e22-a43b-1f50bae6e17e",
   "metadata": {},
   "source": [
    "## Conclusion - The majority restaurants received rating fron 3.5 to 4"
   ]
  },
  {
   "cell_type": "markdown",
   "id": "e6eebf9d-f2e6-48a1-9f0d-8d987bb99d2a",
   "metadata": {},
   "source": [
    "## Average Order spending by couples"
   ]
  },
  {
   "cell_type": "code",
   "execution_count": 15,
   "id": "ca5eb025-9733-4249-b36b-c161485f2bc2",
   "metadata": {},
   "outputs": [
    {
     "data": {
      "text/html": [
       "<div>\n",
       "<style scoped>\n",
       "    .dataframe tbody tr th:only-of-type {\n",
       "        vertical-align: middle;\n",
       "    }\n",
       "\n",
       "    .dataframe tbody tr th {\n",
       "        vertical-align: top;\n",
       "    }\n",
       "\n",
       "    .dataframe thead th {\n",
       "        text-align: right;\n",
       "    }\n",
       "</style>\n",
       "<table border=\"1\" class=\"dataframe\">\n",
       "  <thead>\n",
       "    <tr style=\"text-align: right;\">\n",
       "      <th></th>\n",
       "      <th>name</th>\n",
       "      <th>online_order</th>\n",
       "      <th>book_table</th>\n",
       "      <th>rate</th>\n",
       "      <th>votes</th>\n",
       "      <th>approx_cost(for two people)</th>\n",
       "      <th>listed_in(type)</th>\n",
       "    </tr>\n",
       "  </thead>\n",
       "  <tbody>\n",
       "    <tr>\n",
       "      <th>0</th>\n",
       "      <td>Jalsa</td>\n",
       "      <td>Yes</td>\n",
       "      <td>Yes</td>\n",
       "      <td>4.1</td>\n",
       "      <td>775</td>\n",
       "      <td>800</td>\n",
       "      <td>Buffet</td>\n",
       "    </tr>\n",
       "    <tr>\n",
       "      <th>1</th>\n",
       "      <td>Spice Elephant</td>\n",
       "      <td>Yes</td>\n",
       "      <td>No</td>\n",
       "      <td>4.1</td>\n",
       "      <td>787</td>\n",
       "      <td>800</td>\n",
       "      <td>Buffet</td>\n",
       "    </tr>\n",
       "    <tr>\n",
       "      <th>2</th>\n",
       "      <td>San Churro Cafe</td>\n",
       "      <td>Yes</td>\n",
       "      <td>No</td>\n",
       "      <td>3.8</td>\n",
       "      <td>918</td>\n",
       "      <td>800</td>\n",
       "      <td>Buffet</td>\n",
       "    </tr>\n",
       "    <tr>\n",
       "      <th>3</th>\n",
       "      <td>Addhuri Udupi Bhojana</td>\n",
       "      <td>No</td>\n",
       "      <td>No</td>\n",
       "      <td>3.7</td>\n",
       "      <td>88</td>\n",
       "      <td>300</td>\n",
       "      <td>Buffet</td>\n",
       "    </tr>\n",
       "    <tr>\n",
       "      <th>4</th>\n",
       "      <td>Grand Village</td>\n",
       "      <td>No</td>\n",
       "      <td>No</td>\n",
       "      <td>3.8</td>\n",
       "      <td>166</td>\n",
       "      <td>600</td>\n",
       "      <td>Buffet</td>\n",
       "    </tr>\n",
       "  </tbody>\n",
       "</table>\n",
       "</div>"
      ],
      "text/plain": [
       "                    name online_order book_table  rate  votes  \\\n",
       "0                  Jalsa          Yes        Yes   4.1    775   \n",
       "1         Spice Elephant          Yes         No   4.1    787   \n",
       "2        San Churro Cafe          Yes         No   3.8    918   \n",
       "3  Addhuri Udupi Bhojana           No         No   3.7     88   \n",
       "4          Grand Village           No         No   3.8    166   \n",
       "\n",
       "   approx_cost(for two people) listed_in(type)  \n",
       "0                          800          Buffet  \n",
       "1                          800          Buffet  \n",
       "2                          800          Buffet  \n",
       "3                          300          Buffet  \n",
       "4                          600          Buffet  "
      ]
     },
     "execution_count": 15,
     "metadata": {},
     "output_type": "execute_result"
    }
   ],
   "source": [
    "dataframe.head()"
   ]
  },
  {
   "cell_type": "code",
   "execution_count": 20,
   "id": "7941e296-999c-4634-83e3-0b8f6f13c369",
   "metadata": {},
   "outputs": [
    {
     "name": "stderr",
     "output_type": "stream",
     "text": [
      "C:\\Users\\Ainadri\\AppData\\Local\\Temp\\ipykernel_23116\\2863036931.py:9: FutureWarning: \n",
      "\n",
      "Passing `palette` without assigning `hue` is deprecated and will be removed in v0.14.0. Assign the `x` variable to `hue` and set `legend=False` for the same effect.\n",
      "\n",
      "  sns.barplot(x=x, y=y, palette=colors, legend=False)\n"
     ]
    },
    {
     "data": {
      "image/png": "[encoded data removed]",
      "text/plain": [
       "<Figure size 640x480 with 1 Axes>"
      ]
     },
     "metadata": {},
     "output_type": "display_data"
    }
   ],
   "source": [
    "couple_data = dataframe['approx_cost(for two people)'].astype(str)\n",
    "counts = couple_data.value_counts().sort_index()\n",
    "x = counts.index\n",
    "y = counts.values\n",
    "\n",
    "norm = plt.Normalize(y.min(), y.max())\n",
    "colors = [plt.cm.viridis(norm(val)) for val in y]  # Convert to list of RGBA tuples\n",
    "\n",
    "sns.barplot(x=x, y=y, palette=colors, legend=False)\n",
    "plt.xticks(rotation=45)\n",
    "plt.tight_layout()\n",
    "plt.show()"
   ]
  },
  {
   "cell_type": "markdown",
   "id": "1df77d1d-8e15-4794-a6df-f07730980f09",
   "metadata": {},
   "source": [
    "## Conclusion: The majority of couples prefer restaurants with an approximate cost of 300 Rs."
   ]
  },
  {
   "cell_type": "markdown",
   "id": "5ea02d9f-39e0-46e8-976a-f941be1ec147",
   "metadata": {},
   "source": [
    "# Which mode recieves maximum rating"
   ]
  },
  {
   "cell_type": "code",
   "execution_count": 22,
   "id": "eae4f9ab-a6b5-45ad-9398-fc7bfd33b59b",
   "metadata": {},
   "outputs": [
    {
     "data": {
      "text/plain": [
       "<Axes: xlabel='online_order', ylabel='rate'>"
      ]
     },
     "execution_count": 22,
     "metadata": {},
     "output_type": "execute_result"
    },
    {
     "data": {
      "image/png": "[encoded data removed]",
      "text/plain": [
       "<Figure size 600x600 with 1 Axes>"
      ]
     },
     "metadata": {},
     "output_type": "display_data"
    }
   ],
   "source": [
    "plt.figure(figsize = (6,6))\n",
    "sns.boxplot(x= 'online_order', y = 'rate', data = dataframe)"
   ]
  },
  {
   "cell_type": "code",
   "execution_count": 23,
   "id": "8f574733-8624-4595-bc37-7d4e83ef6c31",
   "metadata": {},
   "outputs": [
    {
     "data": {
      "text/html": [
       "<div>\n",
       "<style scoped>\n",
       "    .dataframe tbody tr th:only-of-type {\n",
       "        vertical-align: middle;\n",
       "    }\n",
       "\n",
       "    .dataframe tbody tr th {\n",
       "        vertical-align: top;\n",
       "    }\n",
       "\n",
       "    .dataframe thead th {\n",
       "        text-align: right;\n",
       "    }\n",
       "</style>\n",
       "<table border=\"1\" class=\"dataframe\">\n",
       "  <thead>\n",
       "    <tr style=\"text-align: right;\">\n",
       "      <th></th>\n",
       "      <th>name</th>\n",
       "      <th>online_order</th>\n",
       "      <th>book_table</th>\n",
       "      <th>rate</th>\n",
       "      <th>votes</th>\n",
       "      <th>approx_cost(for two people)</th>\n",
       "      <th>listed_in(type)</th>\n",
       "    </tr>\n",
       "  </thead>\n",
       "  <tbody>\n",
       "    <tr>\n",
       "      <th>0</th>\n",
       "      <td>Jalsa</td>\n",
       "      <td>Yes</td>\n",
       "      <td>Yes</td>\n",
       "      <td>4.1</td>\n",
       "      <td>775</td>\n",
       "      <td>800</td>\n",
       "      <td>Buffet</td>\n",
       "    </tr>\n",
       "    <tr>\n",
       "      <th>1</th>\n",
       "      <td>Spice Elephant</td>\n",
       "      <td>Yes</td>\n",
       "      <td>No</td>\n",
       "      <td>4.1</td>\n",
       "      <td>787</td>\n",
       "      <td>800</td>\n",
       "      <td>Buffet</td>\n",
       "    </tr>\n",
       "    <tr>\n",
       "      <th>2</th>\n",
       "      <td>San Churro Cafe</td>\n",
       "      <td>Yes</td>\n",
       "      <td>No</td>\n",
       "      <td>3.8</td>\n",
       "      <td>918</td>\n",
       "      <td>800</td>\n",
       "      <td>Buffet</td>\n",
       "    </tr>\n",
       "    <tr>\n",
       "      <th>3</th>\n",
       "      <td>Addhuri Udupi Bhojana</td>\n",
       "      <td>No</td>\n",
       "      <td>No</td>\n",
       "      <td>3.7</td>\n",
       "      <td>88</td>\n",
       "      <td>300</td>\n",
       "      <td>Buffet</td>\n",
       "    </tr>\n",
       "    <tr>\n",
       "      <th>4</th>\n",
       "      <td>Grand Village</td>\n",
       "      <td>No</td>\n",
       "      <td>No</td>\n",
       "      <td>3.8</td>\n",
       "      <td>166</td>\n",
       "      <td>600</td>\n",
       "      <td>Buffet</td>\n",
       "    </tr>\n",
       "  </tbody>\n",
       "</table>\n",
       "</div>"
      ],
      "text/plain": [
       "                    name online_order book_table  rate  votes  \\\n",
       "0                  Jalsa          Yes        Yes   4.1    775   \n",
       "1         Spice Elephant          Yes         No   4.1    787   \n",
       "2        San Churro Cafe          Yes         No   3.8    918   \n",
       "3  Addhuri Udupi Bhojana           No         No   3.7     88   \n",
       "4          Grand Village           No         No   3.8    166   \n",
       "\n",
       "   approx_cost(for two people) listed_in(type)  \n",
       "0                          800          Buffet  \n",
       "1                          800          Buffet  \n",
       "2                          800          Buffet  \n",
       "3                          300          Buffet  \n",
       "4                          600          Buffet  "
      ]
     },
     "execution_count": 23,
     "metadata": {},
     "output_type": "execute_result"
    }
   ],
   "source": [
    "dataframe.head()"
   ]
  },
  {
   "cell_type": "code",
   "execution_count": 25,
   "id": "9ccce2b0-b218-4294-9a67-53b2d2f04a55",
   "metadata": {},
   "outputs": [
    {
     "data": {
      "image/png": "[encoded data removed]",
      "text/plain": [
       "<Figure size 640x480 with 2 Axes>"
      ]
     },
     "metadata": {},
     "output_type": "display_data"
    }
   ],
   "source": [
    "pivot_table = dataframe.pivot_table(index = 'listed_in(type)', columns = 'online_order', aggfunc = 'size', fill_value = 0)\n",
    "sns.heatmap(pivot_table, annot = True, cmap = \"YlGnBu\", fmt = 'd')\n",
    "plt.title(\"Heatmap\")\n",
    "plt.xlabel(\"Online Order\")\n",
    "plt.ylabel(\"Listed in (Type)\")\n",
    "plt.show()"
   ]
  },
  {
   "cell_type": "markdown",
   "id": "037fa2ac-fec5-4beb-8f46-3ef4a7a81121",
   "metadata": {},
   "source": [
    "# Conclusion: Dining Restaurants primarily accept offline orders, whereas cafes primalrily receive online orders. This suggests that clients prefers offline orders in person at restaurants, but prefer online ordering at cafes"
   ]
  },
  {
   "cell_type": "code",
   "execution_count": null,
   "id": "c5006ebc-4f6a-4a11-9ec6-8b4436daafc0",
   "metadata": {},
   "outputs": [],
   "source": []
  }
 ],
 "metadata": {
  "kernelspec": {
   "display_name": "Python 3 (ipykernel)",
   "language": "python",
   "name": "python3"
  },
  "language_info": {
   "codemirror_mode": {
    "name": "ipython",
    "version": 3
   },
   "file_extension": ".py",
   "mimetype": "text/x-python",
   "name": "python",
   "nbconvert_exporter": "python",
   "pygments_lexer": "ipython3",
   "version": "3.13.5"
  }
 },
 "nbformat": 4,
 "nbformat_minor": 5
}
